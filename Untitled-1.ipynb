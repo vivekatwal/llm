{
 "cells": [
  {
   "cell_type": "code",
   "execution_count": null,
   "metadata": {},
   "outputs": [],
   "source": [
    "!pip install langgraph"
   ]
  },
  {
   "cell_type": "code",
   "execution_count": null,
   "metadata": {},
   "outputs": [],
   "source": [
    "from langgraph.graph import StateGraph\n",
    "from typing import TypedDict, List, Annotated\n",
    "import Operator\n",
    "\n",
    "\n",
    "class State(TypedDict):\n",
    "    input: str\n",
    "    all_actions: Annotated[List[str], operator.add]\n",
    "\n",
    "\n",
    "graph = StateGraph(State)"
   ]
  }
 ],
 "metadata": {
  "language_info": {
   "name": "python"
  }
 },
 "nbformat": 4,
 "nbformat_minor": 2
}
